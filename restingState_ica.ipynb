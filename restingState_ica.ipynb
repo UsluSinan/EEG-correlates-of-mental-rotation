{
 "cells": [
  {
   "cell_type": "markdown",
   "id": "bded928f",
   "metadata": {},
   "source": [
    "# Resting-state ICA"
   ]
  },
  {
   "cell_type": "markdown",
   "id": "695e90b2",
   "metadata": {
    "hide_input": true
   },
   "source": [
    "## Initiate session"
   ]
  },
  {
   "cell_type": "code",
   "execution_count": null,
   "id": "074567eb",
   "metadata": {},
   "outputs": [],
   "source": [
    "PARTICIPANT_ID = ''  # e.g., 'id000'"
   ]
  },
  {
   "cell_type": "code",
   "execution_count": null,
   "id": "ac699fb1",
   "metadata": {},
   "outputs": [],
   "source": [
    "# imports\n",
    "from scripts.visualization import ICAPlotsIPython\n",
    "from scripts.constants import RESTING_STATE_DIR, TMP_DIR, ICA_DIR\n",
    "from IPython.display import display, Image\n",
    "import matplotlib\n",
    "import matplotlib.pyplot as plt\n",
    "from mne.io import Raw\n",
    "from mne.preprocessing import ICA\n",
    "import os\n",
    "\n",
    "# session configuration\n",
    "EEG_PATH = os.path.join(RESTING_STATE_DIR, f'{PARTICIPANT_ID}_restingState_raw.fif')  # path to read raw EEG data from\n",
    "ICA_OUTPUT_PATH = os.path.join(ICA_DIR, f'{PARTICIPANT_ID}-ica.fif')  # path to write ICA solution to\n",
    "SRATE = 1000  # sampling rate in Hz\n",
    "SCALE = 1e-6  # raw signal * SCALE = signal in volts\n",
    "L_FREQ = .2  # lower passband edge for high-pass filtering\n",
    "N_ICA_COMPONENTS = 32  # n ICA components to extract"
   ]
  },
  {
   "cell_type": "code",
   "execution_count": null,
   "id": "05ea95dd",
   "metadata": {},
   "outputs": [],
   "source": [
    "if not os.path.exists(ICA_DIR):\n",
    "    os.makedirs(ICA_DIR)"
   ]
  },
  {
   "cell_type": "markdown",
   "id": "6815c767",
   "metadata": {},
   "source": [
    "## Read data"
   ]
  },
  {
   "cell_type": "code",
   "execution_count": null,
   "id": "2d2d128d",
   "metadata": {},
   "outputs": [],
   "source": [
    "eeg = Raw(EEG_PATH, preload=True, verbose=False)"
   ]
  },
  {
   "cell_type": "code",
   "execution_count": null,
   "id": "85835393",
   "metadata": {},
   "outputs": [],
   "source": [
    "%matplotlib inline\n",
    "_ = eeg.plot(\n",
    "    n_channels=len(eeg.ch_names), \n",
    "    duration=5\n",
    ")"
   ]
  },
  {
   "cell_type": "markdown",
   "id": "a250efd1",
   "metadata": {},
   "source": [
    "## High-pass filter"
   ]
  },
  {
   "cell_type": "code",
   "execution_count": null,
   "id": "e6b1784f",
   "metadata": {},
   "outputs": [],
   "source": [
    "eeg = eeg.filter(\n",
    "    l_freq=L_FREQ,\n",
    "    h_freq=None,\n",
    "    verbose=True\n",
    ")"
   ]
  },
  {
   "cell_type": "code",
   "execution_count": null,
   "id": "84400ea5",
   "metadata": {},
   "outputs": [],
   "source": [
    "_ = eeg.plot(\n",
    "    n_channels=len(eeg.ch_names), \n",
    "    duration=5\n",
    ")"
   ]
  },
  {
   "cell_type": "markdown",
   "id": "48215673",
   "metadata": {},
   "source": [
    "## ICA"
   ]
  },
  {
   "cell_type": "code",
   "execution_count": null,
   "id": "8510cb55",
   "metadata": {
    "scrolled": false
   },
   "outputs": [],
   "source": [
    "%matplotlib inline\n",
    "\n",
    "_ = plt.plot()\n",
    "plt.close()\n",
    "\n",
    "ica = ICA(\n",
    "    N_ICA_COMPONENTS,\n",
    "    max_iter='auto', \n",
    "    random_state=0\n",
    ")\n",
    "\n",
    "ica.fit(eeg, verbose='INFO')"
   ]
  },
  {
   "cell_type": "code",
   "execution_count": null,
   "id": "b11603f7",
   "metadata": {},
   "outputs": [],
   "source": [
    "ICAPlotsIPython(\n",
    "    ica=ica, \n",
    "    source=eeg,\n",
    "    samples_window=[0, 3000],\n",
    "    exclusive_components=None,\n",
    "    output_dir=TMP_DIR\n",
    ");"
   ]
  },
  {
   "cell_type": "code",
   "execution_count": null,
   "id": "f1fbff0c",
   "metadata": {
    "scrolled": true
   },
   "outputs": [],
   "source": [
    "for component in range(N_ICA_COMPONENTS):\n",
    "    display(Image(filename=os.path.join(TMP_DIR, f'_{component}.png')))"
   ]
  },
  {
   "cell_type": "code",
   "execution_count": null,
   "id": "e1c6969b",
   "metadata": {},
   "outputs": [],
   "source": [
    "# keep unmodified copy until final component selection\n",
    "_eeg = eeg.copy()"
   ]
  },
  {
   "cell_type": "code",
   "execution_count": null,
   "id": "8c7a5c9a",
   "metadata": {},
   "outputs": [],
   "source": [
    "# Step 1: select components to exclude\n",
    "eeg = _eeg.copy()\n",
    "ica.exclude = []  # e.g. [0, 1] to exclude components #0 and #1\n",
    "eeg = ica.apply(eeg, verbose=False)"
   ]
  },
  {
   "cell_type": "code",
   "execution_count": null,
   "id": "ab8c2b1d",
   "metadata": {
    "scrolled": false
   },
   "outputs": [],
   "source": [
    "# Step 2: plot time data after component exclusion\n",
    "%matplotlib notebook\n",
    "_ = eeg.plot(\n",
    "    n_channels=len(eeg.ch_names), \n",
    "    duration=5,\n",
    ")"
   ]
  },
  {
   "cell_type": "code",
   "execution_count": null,
   "id": "8c06e91f",
   "metadata": {},
   "outputs": [],
   "source": [
    "# if not satisfied and selection to be modified --> redo steps 1 & 2\n",
    "del eeg"
   ]
  },
  {
   "cell_type": "code",
   "execution_count": null,
   "id": "2ec493c5",
   "metadata": {},
   "outputs": [],
   "source": [
    "# if satisfied and final component selection\n",
    "del _eeg"
   ]
  },
  {
   "cell_type": "code",
   "execution_count": null,
   "id": "a7aab98e",
   "metadata": {},
   "outputs": [],
   "source": [
    "# save solution\n",
    "ica.save(ICA_OUTPUT_PATH)"
   ]
  },
  {
   "cell_type": "markdown",
   "id": "dc2bf643",
   "metadata": {},
   "source": [
    "## Clear session"
   ]
  },
  {
   "cell_type": "code",
   "execution_count": null,
   "id": "921a4dbb",
   "metadata": {},
   "outputs": [],
   "source": [
    "tmp_files = [os.path.join(TMP_DIR, f) for f in os.listdir(TMP_DIR)]\n",
    "for f in tmp_files:\n",
    "    os.remove(f)"
   ]
  }
 ],
 "metadata": {
  "kernelspec": {
   "display_name": "Python 3 (ipykernel)",
   "language": "python",
   "name": "python3"
  },
  "language_info": {
   "codemirror_mode": {
    "name": "ipython",
    "version": 3
   },
   "file_extension": ".py",
   "mimetype": "text/x-python",
   "name": "python",
   "nbconvert_exporter": "python",
   "pygments_lexer": "ipython3",
   "version": "3.7.3"
  }
 },
 "nbformat": 4,
 "nbformat_minor": 5
}
